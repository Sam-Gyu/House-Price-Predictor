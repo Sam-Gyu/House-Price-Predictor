{
 "cells": [
  {
   "cell_type": "code",
   "execution_count": 8,
   "id": "60a3d5c4",
   "metadata": {},
   "outputs": [
    {
     "name": "stdout",
     "output_type": "stream",
     "text": [
      "R^2 score: 0.8444897211096725\n"
     ]
    }
   ],
   "source": [
    "from sklearn import datasets\n",
    "from sklearn.model_selection import train_test_split\n",
    "from sklearn.linear_model import LinearRegression\n",
    "from sklearn.metrics import r2_score\n",
    "from sklearn.preprocessing import PolynomialFeatures\n",
    "from sklearn.ensemble import HistGradientBoostingRegressor\n",
    "import joblib\n",
    "\n",
    "# Load the California housing dataset\n",
    "housing = datasets.fetch_california_housing()\n",
    "x = housing.data\n",
    "y = housing.target\n",
    "\n",
    "\n",
    "# Create polynomial features to improve model performance\n",
    "poly = PolynomialFeatures()\n",
    "x = poly.fit_transform(x)\n",
    "\n",
    "\n",
    "# Split the dataset into training and testing sets\n",
    "x_train, x_test, y_train, y_test = train_test_split(\n",
    "    x, y, test_size=0.2, random_state=432\n",
    ")\n",
    "\n",
    "# Train a Gradient Boosting model\n",
    "model = HistGradientBoostingRegressor(\n",
    "    max_iter=350,        # Number of boosting iterations (trees)\n",
    "    learning_rate=0.05   # Scales the contribution of each tree.\n",
    ")\n",
    "model.fit(x_train, y_train)\n",
    "\n",
    "# Save the trained model\n",
    "joblib.dump(model, 'housing_model.joblib')\n",
    "\n",
    "# Make predictions and evaluate performance\n",
    "y_pred = model.predict(x_test)\n",
    "r2 = r2_score(y_test, y_pred)\n",
    "print(f\"R^2 score: {r2}\")"
   ]
  }
 ],
 "metadata": {
  "kernelspec": {
   "display_name": "Python 3",
   "language": "python",
   "name": "python3"
  },
  "language_info": {
   "codemirror_mode": {
    "name": "ipython",
    "version": 3
   },
   "file_extension": ".py",
   "mimetype": "text/x-python",
   "name": "python",
   "nbconvert_exporter": "python",
   "pygments_lexer": "ipython3",
   "version": "3.12.1"
  }
 },
 "nbformat": 4,
 "nbformat_minor": 5
}
